{
 "cells": [
  {
   "cell_type": "markdown",
   "id": "72311483",
   "metadata": {},
   "source": [
    "# Create Summary Payload with Python"
   ]
  },
  {
   "cell_type": "markdown",
   "id": "709c57e1",
   "metadata": {},
   "source": [
    "Set the column names as follows:\n",
    "1. tanggal → Date with format (yyyymmdd), ex: 19450817\n",
    "2. kecamatan → Name of kecamatan\n",
    "3. total_traffic_volume_mbyte → Payload (MB)"
   ]
  },
  {
   "cell_type": "code",
   "execution_count": 1,
   "id": "d3020830",
   "metadata": {},
   "outputs": [],
   "source": [
    "# Import required libraries\n",
    "import pandas as pd\n",
    "from sqlalchemy import create_engine"
   ]
  },
  {
   "cell_type": "code",
   "execution_count": 2,
   "id": "bf6f4295",
   "metadata": {},
   "outputs": [
    {
     "data": {
      "text/html": [
       "<div>\n",
       "<style scoped>\n",
       "    .dataframe tbody tr th:only-of-type {\n",
       "        vertical-align: middle;\n",
       "    }\n",
       "\n",
       "    .dataframe tbody tr th {\n",
       "        vertical-align: top;\n",
       "    }\n",
       "\n",
       "    .dataframe thead th {\n",
       "        text-align: right;\n",
       "    }\n",
       "</style>\n",
       "<table border=\"1\" class=\"dataframe\">\n",
       "  <thead>\n",
       "    <tr style=\"text-align: right;\">\n",
       "      <th></th>\n",
       "      <th>tanggal</th>\n",
       "      <th>regional</th>\n",
       "      <th>kabupaten</th>\n",
       "      <th>kecamatan</th>\n",
       "      <th>lac</th>\n",
       "      <th>ci</th>\n",
       "      <th>total_traffic_volume_mbyte</th>\n",
       "      <th>rw</th>\n",
       "    </tr>\n",
       "  </thead>\n",
       "  <tbody>\n",
       "    <tr>\n",
       "      <th>0</th>\n",
       "      <td>20220201</td>\n",
       "      <td>JABOTABEK</td>\n",
       "      <td>KOTA DEPOK</td>\n",
       "      <td>BEJI</td>\n",
       "      <td>133606</td>\n",
       "      <td>35</td>\n",
       "      <td>96950.470681</td>\n",
       "      <td>1</td>\n",
       "    </tr>\n",
       "    <tr>\n",
       "      <th>1</th>\n",
       "      <td>20220201</td>\n",
       "      <td>JABOTABEK</td>\n",
       "      <td>KOTA DEPOK</td>\n",
       "      <td>BEJI</td>\n",
       "      <td>133606</td>\n",
       "      <td>34</td>\n",
       "      <td>102691.026483</td>\n",
       "      <td>1</td>\n",
       "    </tr>\n",
       "    <tr>\n",
       "      <th>2</th>\n",
       "      <td>20220201</td>\n",
       "      <td>JABOTABEK</td>\n",
       "      <td>KOTA DEPOK</td>\n",
       "      <td>BEJI</td>\n",
       "      <td>133606</td>\n",
       "      <td>32</td>\n",
       "      <td>75333.733720</td>\n",
       "      <td>1</td>\n",
       "    </tr>\n",
       "    <tr>\n",
       "      <th>3</th>\n",
       "      <td>20220201</td>\n",
       "      <td>JABOTABEK</td>\n",
       "      <td>KOTA DEPOK</td>\n",
       "      <td>BEJI</td>\n",
       "      <td>133606</td>\n",
       "      <td>31</td>\n",
       "      <td>183499.086676</td>\n",
       "      <td>1</td>\n",
       "    </tr>\n",
       "    <tr>\n",
       "      <th>4</th>\n",
       "      <td>20220201</td>\n",
       "      <td>JABOTABEK</td>\n",
       "      <td>KOTA DEPOK</td>\n",
       "      <td>BEJI</td>\n",
       "      <td>133606</td>\n",
       "      <td>25</td>\n",
       "      <td>31582.665579</td>\n",
       "      <td>1</td>\n",
       "    </tr>\n",
       "  </tbody>\n",
       "</table>\n",
       "</div>"
      ],
      "text/plain": [
       "    tanggal   regional   kabupaten kecamatan     lac  ci  total_traffic_volume_mbyte  rw\n",
       "0  20220201  JABOTABEK  KOTA DEPOK      BEJI  133606  35                96950.470681   1\n",
       "1  20220201  JABOTABEK  KOTA DEPOK      BEJI  133606  34               102691.026483   1\n",
       "2  20220201  JABOTABEK  KOTA DEPOK      BEJI  133606  32                75333.733720   1\n",
       "3  20220201  JABOTABEK  KOTA DEPOK      BEJI  133606  31               183499.086676   1\n",
       "4  20220201  JABOTABEK  KOTA DEPOK      BEJI  133606  25                31582.665579   1"
      ]
     },
     "execution_count": 2,
     "metadata": {},
     "output_type": "execute_result"
    }
   ],
   "source": [
    "# Read raw data of payload\n",
    "pd.set_option('display.max_rows', 500)\n",
    "pd.set_option('display.max_columns', 500)\n",
    "pd.set_option('display.width', 1000)\n",
    "\n",
    "df = pd.read_csv(\"payload_4g_depok.csv\")\n",
    "df.head(5)"
   ]
  },
  {
   "cell_type": "code",
   "execution_count": 3,
   "id": "3371ee7d",
   "metadata": {},
   "outputs": [
    {
     "data": {
      "text/plain": [
       "(126681, 8)"
      ]
     },
     "execution_count": 3,
     "metadata": {},
     "output_type": "execute_result"
    }
   ],
   "source": [
    "df.shape"
   ]
  },
  {
   "cell_type": "code",
   "execution_count": 4,
   "id": "98f2270c",
   "metadata": {},
   "outputs": [
    {
     "data": {
      "text/html": [
       "<div>\n",
       "<style scoped>\n",
       "    .dataframe tbody tr th:only-of-type {\n",
       "        vertical-align: middle;\n",
       "    }\n",
       "\n",
       "    .dataframe tbody tr th {\n",
       "        vertical-align: top;\n",
       "    }\n",
       "\n",
       "    .dataframe thead th {\n",
       "        text-align: right;\n",
       "    }\n",
       "</style>\n",
       "<table border=\"1\" class=\"dataframe\">\n",
       "  <thead>\n",
       "    <tr style=\"text-align: right;\">\n",
       "      <th></th>\n",
       "      <th>tanggal</th>\n",
       "      <th>regional</th>\n",
       "      <th>kabupaten</th>\n",
       "      <th>kecamatan</th>\n",
       "      <th>lac</th>\n",
       "      <th>ci</th>\n",
       "      <th>total_traffic_volume_mbyte</th>\n",
       "      <th>rw</th>\n",
       "    </tr>\n",
       "  </thead>\n",
       "  <tbody>\n",
       "    <tr>\n",
       "      <th>0</th>\n",
       "      <td>20220201</td>\n",
       "      <td>JABOTABEK</td>\n",
       "      <td>KOTA DEPOK</td>\n",
       "      <td>Beji</td>\n",
       "      <td>133606</td>\n",
       "      <td>35</td>\n",
       "      <td>96950.470681</td>\n",
       "      <td>1</td>\n",
       "    </tr>\n",
       "    <tr>\n",
       "      <th>1</th>\n",
       "      <td>20220201</td>\n",
       "      <td>JABOTABEK</td>\n",
       "      <td>KOTA DEPOK</td>\n",
       "      <td>Beji</td>\n",
       "      <td>133606</td>\n",
       "      <td>34</td>\n",
       "      <td>102691.026483</td>\n",
       "      <td>1</td>\n",
       "    </tr>\n",
       "    <tr>\n",
       "      <th>2</th>\n",
       "      <td>20220201</td>\n",
       "      <td>JABOTABEK</td>\n",
       "      <td>KOTA DEPOK</td>\n",
       "      <td>Beji</td>\n",
       "      <td>133606</td>\n",
       "      <td>32</td>\n",
       "      <td>75333.733720</td>\n",
       "      <td>1</td>\n",
       "    </tr>\n",
       "    <tr>\n",
       "      <th>3</th>\n",
       "      <td>20220201</td>\n",
       "      <td>JABOTABEK</td>\n",
       "      <td>KOTA DEPOK</td>\n",
       "      <td>Beji</td>\n",
       "      <td>133606</td>\n",
       "      <td>31</td>\n",
       "      <td>183499.086676</td>\n",
       "      <td>1</td>\n",
       "    </tr>\n",
       "    <tr>\n",
       "      <th>4</th>\n",
       "      <td>20220201</td>\n",
       "      <td>JABOTABEK</td>\n",
       "      <td>KOTA DEPOK</td>\n",
       "      <td>Beji</td>\n",
       "      <td>133606</td>\n",
       "      <td>25</td>\n",
       "      <td>31582.665579</td>\n",
       "      <td>1</td>\n",
       "    </tr>\n",
       "  </tbody>\n",
       "</table>\n",
       "</div>"
      ],
      "text/plain": [
       "    tanggal   regional   kabupaten kecamatan     lac  ci  total_traffic_volume_mbyte  rw\n",
       "0  20220201  JABOTABEK  KOTA DEPOK      Beji  133606  35                96950.470681   1\n",
       "1  20220201  JABOTABEK  KOTA DEPOK      Beji  133606  34               102691.026483   1\n",
       "2  20220201  JABOTABEK  KOTA DEPOK      Beji  133606  32                75333.733720   1\n",
       "3  20220201  JABOTABEK  KOTA DEPOK      Beji  133606  31               183499.086676   1\n",
       "4  20220201  JABOTABEK  KOTA DEPOK      Beji  133606  25                31582.665579   1"
      ]
     },
     "execution_count": 4,
     "metadata": {},
     "output_type": "execute_result"
    }
   ],
   "source": [
    "# Convert a string to a title case in the 'kecamatan' column\n",
    "df['kecamatan'] = df['kecamatan'].str.title()\n",
    "df.head(5)"
   ]
  },
  {
   "cell_type": "code",
   "execution_count": 5,
   "id": "39230da1",
   "metadata": {},
   "outputs": [
    {
     "data": {
      "text/plain": [
       "tanggal                         0\n",
       "regional                        0\n",
       "kabupaten                       0\n",
       "kecamatan                       0\n",
       "lac                             0\n",
       "ci                              0\n",
       "total_traffic_volume_mbyte    840\n",
       "rw                              0\n",
       "dtype: int64"
      ]
     },
     "execution_count": 5,
     "metadata": {},
     "output_type": "execute_result"
    }
   ],
   "source": [
    "# Check null value\n",
    "df.isna().sum()"
   ]
  },
  {
   "cell_type": "code",
   "execution_count": 6,
   "id": "5d1877bd",
   "metadata": {},
   "outputs": [
    {
     "data": {
      "text/plain": [
       "(125841, 8)"
      ]
     },
     "execution_count": 6,
     "metadata": {},
     "output_type": "execute_result"
    }
   ],
   "source": [
    "# Drop null value\n",
    "df = df.dropna()\n",
    "df.shape"
   ]
  },
  {
   "cell_type": "code",
   "execution_count": 7,
   "id": "f86f8fd3",
   "metadata": {
    "scrolled": false
   },
   "outputs": [
    {
     "data": {
      "text/plain": [
       "<AxesSubplot:>"
      ]
     },
     "execution_count": 7,
     "metadata": {},
     "output_type": "execute_result"
    },
    {
     "data": {
      "image/png": "[encoded data removed]",
      "text/plain": [
       "<Figure size 432x288 with 1 Axes>"
      ]
     },
     "metadata": {
      "needs_background": "light"
     },
     "output_type": "display_data"
    }
   ],
   "source": [
    "# Check outliar data\n",
    "df.boxplot('total_traffic_volume_mbyte')"
   ]
  },
  {
   "cell_type": "code",
   "execution_count": 8,
   "id": "9fd46df8",
   "metadata": {
    "scrolled": false
   },
   "outputs": [
    {
     "data": {
      "text/html": [
       "<div>\n",
       "<style scoped>\n",
       "    .dataframe tbody tr th:only-of-type {\n",
       "        vertical-align: middle;\n",
       "    }\n",
       "\n",
       "    .dataframe tbody tr th {\n",
       "        vertical-align: top;\n",
       "    }\n",
       "\n",
       "    .dataframe thead th {\n",
       "        text-align: right;\n",
       "    }\n",
       "</style>\n",
       "<table border=\"1\" class=\"dataframe\">\n",
       "  <thead>\n",
       "    <tr style=\"text-align: right;\">\n",
       "      <th></th>\n",
       "      <th>tanggal</th>\n",
       "      <th>regional</th>\n",
       "      <th>kabupaten</th>\n",
       "      <th>kecamatan</th>\n",
       "      <th>lac</th>\n",
       "      <th>ci</th>\n",
       "      <th>total_traffic_volume_mbyte</th>\n",
       "      <th>rw</th>\n",
       "    </tr>\n",
       "  </thead>\n",
       "  <tbody>\n",
       "    <tr>\n",
       "      <th>0</th>\n",
       "      <td>20220201</td>\n",
       "      <td>JABOTABEK</td>\n",
       "      <td>KOTA DEPOK</td>\n",
       "      <td>Beji</td>\n",
       "      <td>133606</td>\n",
       "      <td>35</td>\n",
       "      <td>96950.470681</td>\n",
       "      <td>1</td>\n",
       "    </tr>\n",
       "    <tr>\n",
       "      <th>1</th>\n",
       "      <td>20220201</td>\n",
       "      <td>JABOTABEK</td>\n",
       "      <td>KOTA DEPOK</td>\n",
       "      <td>Beji</td>\n",
       "      <td>133606</td>\n",
       "      <td>34</td>\n",
       "      <td>102691.026483</td>\n",
       "      <td>1</td>\n",
       "    </tr>\n",
       "    <tr>\n",
       "      <th>2</th>\n",
       "      <td>20220201</td>\n",
       "      <td>JABOTABEK</td>\n",
       "      <td>KOTA DEPOK</td>\n",
       "      <td>Beji</td>\n",
       "      <td>133606</td>\n",
       "      <td>32</td>\n",
       "      <td>75333.733720</td>\n",
       "      <td>1</td>\n",
       "    </tr>\n",
       "    <tr>\n",
       "      <th>3</th>\n",
       "      <td>20220201</td>\n",
       "      <td>JABOTABEK</td>\n",
       "      <td>KOTA DEPOK</td>\n",
       "      <td>Beji</td>\n",
       "      <td>133606</td>\n",
       "      <td>31</td>\n",
       "      <td>183499.086676</td>\n",
       "      <td>1</td>\n",
       "    </tr>\n",
       "    <tr>\n",
       "      <th>4</th>\n",
       "      <td>20220201</td>\n",
       "      <td>JABOTABEK</td>\n",
       "      <td>KOTA DEPOK</td>\n",
       "      <td>Beji</td>\n",
       "      <td>133606</td>\n",
       "      <td>25</td>\n",
       "      <td>31582.665579</td>\n",
       "      <td>1</td>\n",
       "    </tr>\n",
       "  </tbody>\n",
       "</table>\n",
       "</div>"
      ],
      "text/plain": [
       "    tanggal   regional   kabupaten kecamatan     lac  ci  total_traffic_volume_mbyte  rw\n",
       "0  20220201  JABOTABEK  KOTA DEPOK      Beji  133606  35                96950.470681   1\n",
       "1  20220201  JABOTABEK  KOTA DEPOK      Beji  133606  34               102691.026483   1\n",
       "2  20220201  JABOTABEK  KOTA DEPOK      Beji  133606  32                75333.733720   1\n",
       "3  20220201  JABOTABEK  KOTA DEPOK      Beji  133606  31               183499.086676   1\n",
       "4  20220201  JABOTABEK  KOTA DEPOK      Beji  133606  25                31582.665579   1"
      ]
     },
     "execution_count": 8,
     "metadata": {},
     "output_type": "execute_result"
    }
   ],
   "source": [
    "# Drop outliar data\n",
    "Q1, Q3 = df['total_traffic_volume_mbyte'].quantile([0.25, 0.75])\n",
    "IQR = Q3 - Q1\n",
    "lower_limit = Q1 - (1.5*IQR)\n",
    "upper_limit = Q3 + (1.5*IQR)\n",
    "df = df[(df['total_traffic_volume_mbyte'] > lower_limit) & (df['total_traffic_volume_mbyte'] < upper_limit)]\n",
    "df.head(5)"
   ]
  },
  {
   "cell_type": "code",
   "execution_count": 9,
   "id": "7ab4fecc",
   "metadata": {},
   "outputs": [
    {
     "data": {
      "text/plain": [
       "(121743, 8)"
      ]
     },
     "execution_count": 9,
     "metadata": {},
     "output_type": "execute_result"
    }
   ],
   "source": [
    "df.shape"
   ]
  },
  {
   "cell_type": "code",
   "execution_count": 10,
   "id": "fdb829c8",
   "metadata": {},
   "outputs": [
    {
     "data": {
      "text/plain": [
       "79568.40188160495"
      ]
     },
     "execution_count": 10,
     "metadata": {},
     "output_type": "execute_result"
    }
   ],
   "source": [
    "# Average of payload usage in Depok\n",
    "payload_depok = df[\"total_traffic_volume_mbyte\"].mean()\n",
    "payload_depok"
   ]
  },
  {
   "cell_type": "code",
   "execution_count": 11,
   "id": "2ddb90f1",
   "metadata": {},
   "outputs": [
    {
     "data": {
      "text/plain": [
       "array(['Beji', 'Cinere', 'Cimanggis', 'Sawangan', 'Sukma Jaya',\n",
       "       'Cilodong', 'Pancoran Mas', 'Tapos', 'Limo', 'Cipayung',\n",
       "       'Bojongsari'], dtype=object)"
      ]
     },
     "execution_count": 11,
     "metadata": {},
     "output_type": "execute_result"
    }
   ],
   "source": [
    "# Name of kecamatan in each kecamatan in Depok\n",
    "kec = df['kecamatan'].unique()\n",
    "kec"
   ]
  },
  {
   "cell_type": "code",
   "execution_count": 12,
   "id": "206ca2ca",
   "metadata": {},
   "outputs": [
    {
     "data": {
      "text/plain": [
       "[59405.72427613451,\n",
       " 76305.28086825326,\n",
       " 77892.54600972924,\n",
       " 90387.27168309977,\n",
       " 80264.20535597995,\n",
       " 89821.65866232286,\n",
       " 76823.68421170702,\n",
       " 86486.93235910787,\n",
       " 89036.58240776713,\n",
       " 87046.63590713603,\n",
       " 88976.16995647755]"
      ]
     },
     "execution_count": 12,
     "metadata": {},
     "output_type": "execute_result"
    }
   ],
   "source": [
    "# Average of payload usage in Depok\n",
    "payload_kec = []\n",
    "for x in kec:\n",
    "    kec2 = df.loc[df['kecamatan']== x]\n",
    "    rata = kec2[\"total_traffic_volume_mbyte\"].mean()\n",
    "    payload_kec.append(rata)\n",
    "payload_kec"
   ]
  },
  {
   "cell_type": "code",
   "execution_count": 13,
   "id": "b599bd06",
   "metadata": {},
   "outputs": [
    {
     "data": {
      "text/html": [
       "<div>\n",
       "<style scoped>\n",
       "    .dataframe tbody tr th:only-of-type {\n",
       "        vertical-align: middle;\n",
       "    }\n",
       "\n",
       "    .dataframe tbody tr th {\n",
       "        vertical-align: top;\n",
       "    }\n",
       "\n",
       "    .dataframe thead th {\n",
       "        text-align: right;\n",
       "    }\n",
       "</style>\n",
       "<table border=\"1\" class=\"dataframe\">\n",
       "  <thead>\n",
       "    <tr style=\"text-align: right;\">\n",
       "      <th></th>\n",
       "      <th>kecamatan_payload</th>\n",
       "      <th>payload_MB</th>\n",
       "    </tr>\n",
       "  </thead>\n",
       "  <tbody>\n",
       "    <tr>\n",
       "      <th>0</th>\n",
       "      <td>Beji</td>\n",
       "      <td>59405.724276</td>\n",
       "    </tr>\n",
       "    <tr>\n",
       "      <th>1</th>\n",
       "      <td>Cinere</td>\n",
       "      <td>76305.280868</td>\n",
       "    </tr>\n",
       "    <tr>\n",
       "      <th>2</th>\n",
       "      <td>Cimanggis</td>\n",
       "      <td>77892.546010</td>\n",
       "    </tr>\n",
       "    <tr>\n",
       "      <th>3</th>\n",
       "      <td>Sawangan</td>\n",
       "      <td>90387.271683</td>\n",
       "    </tr>\n",
       "    <tr>\n",
       "      <th>4</th>\n",
       "      <td>Sukma Jaya</td>\n",
       "      <td>80264.205356</td>\n",
       "    </tr>\n",
       "    <tr>\n",
       "      <th>5</th>\n",
       "      <td>Cilodong</td>\n",
       "      <td>89821.658662</td>\n",
       "    </tr>\n",
       "    <tr>\n",
       "      <th>6</th>\n",
       "      <td>Pancoran Mas</td>\n",
       "      <td>76823.684212</td>\n",
       "    </tr>\n",
       "    <tr>\n",
       "      <th>7</th>\n",
       "      <td>Tapos</td>\n",
       "      <td>86486.932359</td>\n",
       "    </tr>\n",
       "    <tr>\n",
       "      <th>8</th>\n",
       "      <td>Limo</td>\n",
       "      <td>89036.582408</td>\n",
       "    </tr>\n",
       "    <tr>\n",
       "      <th>9</th>\n",
       "      <td>Cipayung</td>\n",
       "      <td>87046.635907</td>\n",
       "    </tr>\n",
       "    <tr>\n",
       "      <th>10</th>\n",
       "      <td>Bojongsari</td>\n",
       "      <td>88976.169956</td>\n",
       "    </tr>\n",
       "  </tbody>\n",
       "</table>\n",
       "</div>"
      ],
      "text/plain": [
       "   kecamatan_payload    payload_MB\n",
       "0               Beji  59405.724276\n",
       "1             Cinere  76305.280868\n",
       "2          Cimanggis  77892.546010\n",
       "3           Sawangan  90387.271683\n",
       "4         Sukma Jaya  80264.205356\n",
       "5           Cilodong  89821.658662\n",
       "6       Pancoran Mas  76823.684212\n",
       "7              Tapos  86486.932359\n",
       "8               Limo  89036.582408\n",
       "9           Cipayung  87046.635907\n",
       "10        Bojongsari  88976.169956"
      ]
     },
     "execution_count": 13,
     "metadata": {},
     "output_type": "execute_result"
    }
   ],
   "source": [
    "# Create DataFrame from dict of list\n",
    "df2 = pd.DataFrame(list(zip(kec, payload_kec)),\n",
    "                  columns = ['kecamatan_payload', 'payload_MB'])\n",
    "df2"
   ]
  },
  {
   "cell_type": "code",
   "execution_count": 14,
   "id": "a8cb689e",
   "metadata": {},
   "outputs": [
    {
     "data": {
      "text/html": [
       "<div>\n",
       "<style scoped>\n",
       "    .dataframe tbody tr th:only-of-type {\n",
       "        vertical-align: middle;\n",
       "    }\n",
       "\n",
       "    .dataframe tbody tr th {\n",
       "        vertical-align: top;\n",
       "    }\n",
       "\n",
       "    .dataframe thead th {\n",
       "        text-align: right;\n",
       "    }\n",
       "</style>\n",
       "<table border=\"1\" class=\"dataframe\">\n",
       "  <thead>\n",
       "    <tr style=\"text-align: right;\">\n",
       "      <th></th>\n",
       "      <th>kecamatan_payload</th>\n",
       "      <th>payload_MB</th>\n",
       "      <th>recommended_payload</th>\n",
       "    </tr>\n",
       "  </thead>\n",
       "  <tbody>\n",
       "    <tr>\n",
       "      <th>0</th>\n",
       "      <td>Beji</td>\n",
       "      <td>59405.724276</td>\n",
       "      <td>No</td>\n",
       "    </tr>\n",
       "    <tr>\n",
       "      <th>1</th>\n",
       "      <td>Cinere</td>\n",
       "      <td>76305.280868</td>\n",
       "      <td>No</td>\n",
       "    </tr>\n",
       "    <tr>\n",
       "      <th>2</th>\n",
       "      <td>Cimanggis</td>\n",
       "      <td>77892.546010</td>\n",
       "      <td>No</td>\n",
       "    </tr>\n",
       "    <tr>\n",
       "      <th>3</th>\n",
       "      <td>Sawangan</td>\n",
       "      <td>90387.271683</td>\n",
       "      <td>Yes</td>\n",
       "    </tr>\n",
       "    <tr>\n",
       "      <th>4</th>\n",
       "      <td>Sukma Jaya</td>\n",
       "      <td>80264.205356</td>\n",
       "      <td>Yes</td>\n",
       "    </tr>\n",
       "    <tr>\n",
       "      <th>5</th>\n",
       "      <td>Cilodong</td>\n",
       "      <td>89821.658662</td>\n",
       "      <td>Yes</td>\n",
       "    </tr>\n",
       "    <tr>\n",
       "      <th>6</th>\n",
       "      <td>Pancoran Mas</td>\n",
       "      <td>76823.684212</td>\n",
       "      <td>No</td>\n",
       "    </tr>\n",
       "    <tr>\n",
       "      <th>7</th>\n",
       "      <td>Tapos</td>\n",
       "      <td>86486.932359</td>\n",
       "      <td>Yes</td>\n",
       "    </tr>\n",
       "    <tr>\n",
       "      <th>8</th>\n",
       "      <td>Limo</td>\n",
       "      <td>89036.582408</td>\n",
       "      <td>Yes</td>\n",
       "    </tr>\n",
       "    <tr>\n",
       "      <th>9</th>\n",
       "      <td>Cipayung</td>\n",
       "      <td>87046.635907</td>\n",
       "      <td>Yes</td>\n",
       "    </tr>\n",
       "    <tr>\n",
       "      <th>10</th>\n",
       "      <td>Bojongsari</td>\n",
       "      <td>88976.169956</td>\n",
       "      <td>Yes</td>\n",
       "    </tr>\n",
       "  </tbody>\n",
       "</table>\n",
       "</div>"
      ],
      "text/plain": [
       "   kecamatan_payload    payload_MB recommended_payload\n",
       "0               Beji  59405.724276                  No\n",
       "1             Cinere  76305.280868                  No\n",
       "2          Cimanggis  77892.546010                  No\n",
       "3           Sawangan  90387.271683                 Yes\n",
       "4         Sukma Jaya  80264.205356                 Yes\n",
       "5           Cilodong  89821.658662                 Yes\n",
       "6       Pancoran Mas  76823.684212                  No\n",
       "7              Tapos  86486.932359                 Yes\n",
       "8               Limo  89036.582408                 Yes\n",
       "9           Cipayung  87046.635907                 Yes\n",
       "10        Bojongsari  88976.169956                 Yes"
      ]
     },
     "execution_count": 14,
     "metadata": {},
     "output_type": "execute_result"
    }
   ],
   "source": [
    "# Determine the recommended kecamatan for the development of 5G coverage in Depok\n",
    "def recommendation(row):\n",
    "    if row['payload_MB'] >= payload_depok:\n",
    "        val = 'Yes'\n",
    "    else:\n",
    "        val = 'No'\n",
    "    return val\n",
    "\n",
    "df2['recommended_payload'] = df2.apply(recommendation, axis=1)\n",
    "df2"
   ]
  },
  {
   "cell_type": "code",
   "execution_count": 15,
   "id": "47d36ce9",
   "metadata": {},
   "outputs": [
    {
     "data": {
      "text/html": [
       "<div>\n",
       "<style scoped>\n",
       "    .dataframe tbody tr th:only-of-type {\n",
       "        vertical-align: middle;\n",
       "    }\n",
       "\n",
       "    .dataframe tbody tr th {\n",
       "        vertical-align: top;\n",
       "    }\n",
       "\n",
       "    .dataframe thead th {\n",
       "        text-align: right;\n",
       "    }\n",
       "</style>\n",
       "<table border=\"1\" class=\"dataframe\">\n",
       "  <thead>\n",
       "    <tr style=\"text-align: right;\">\n",
       "      <th></th>\n",
       "      <th>no_payload</th>\n",
       "      <th>kecamatan_payload</th>\n",
       "      <th>payload_MB</th>\n",
       "      <th>recommended_payload</th>\n",
       "    </tr>\n",
       "  </thead>\n",
       "  <tbody>\n",
       "    <tr>\n",
       "      <th>3</th>\n",
       "      <td>1</td>\n",
       "      <td>Sawangan</td>\n",
       "      <td>90387.271683</td>\n",
       "      <td>Yes</td>\n",
       "    </tr>\n",
       "    <tr>\n",
       "      <th>5</th>\n",
       "      <td>2</td>\n",
       "      <td>Cilodong</td>\n",
       "      <td>89821.658662</td>\n",
       "      <td>Yes</td>\n",
       "    </tr>\n",
       "    <tr>\n",
       "      <th>8</th>\n",
       "      <td>3</td>\n",
       "      <td>Limo</td>\n",
       "      <td>89036.582408</td>\n",
       "      <td>Yes</td>\n",
       "    </tr>\n",
       "    <tr>\n",
       "      <th>10</th>\n",
       "      <td>4</td>\n",
       "      <td>Bojongsari</td>\n",
       "      <td>88976.169956</td>\n",
       "      <td>Yes</td>\n",
       "    </tr>\n",
       "    <tr>\n",
       "      <th>9</th>\n",
       "      <td>5</td>\n",
       "      <td>Cipayung</td>\n",
       "      <td>87046.635907</td>\n",
       "      <td>Yes</td>\n",
       "    </tr>\n",
       "    <tr>\n",
       "      <th>7</th>\n",
       "      <td>6</td>\n",
       "      <td>Tapos</td>\n",
       "      <td>86486.932359</td>\n",
       "      <td>Yes</td>\n",
       "    </tr>\n",
       "    <tr>\n",
       "      <th>4</th>\n",
       "      <td>7</td>\n",
       "      <td>Sukma Jaya</td>\n",
       "      <td>80264.205356</td>\n",
       "      <td>Yes</td>\n",
       "    </tr>\n",
       "    <tr>\n",
       "      <th>2</th>\n",
       "      <td>8</td>\n",
       "      <td>Cimanggis</td>\n",
       "      <td>77892.546010</td>\n",
       "      <td>No</td>\n",
       "    </tr>\n",
       "    <tr>\n",
       "      <th>6</th>\n",
       "      <td>9</td>\n",
       "      <td>Pancoran Mas</td>\n",
       "      <td>76823.684212</td>\n",
       "      <td>No</td>\n",
       "    </tr>\n",
       "    <tr>\n",
       "      <th>1</th>\n",
       "      <td>10</td>\n",
       "      <td>Cinere</td>\n",
       "      <td>76305.280868</td>\n",
       "      <td>No</td>\n",
       "    </tr>\n",
       "    <tr>\n",
       "      <th>0</th>\n",
       "      <td>11</td>\n",
       "      <td>Beji</td>\n",
       "      <td>59405.724276</td>\n",
       "      <td>No</td>\n",
       "    </tr>\n",
       "  </tbody>\n",
       "</table>\n",
       "</div>"
      ],
      "text/plain": [
       "    no_payload kecamatan_payload    payload_MB recommended_payload\n",
       "3            1          Sawangan  90387.271683                 Yes\n",
       "5            2          Cilodong  89821.658662                 Yes\n",
       "8            3              Limo  89036.582408                 Yes\n",
       "10           4        Bojongsari  88976.169956                 Yes\n",
       "9            5          Cipayung  87046.635907                 Yes\n",
       "7            6             Tapos  86486.932359                 Yes\n",
       "4            7        Sukma Jaya  80264.205356                 Yes\n",
       "2            8         Cimanggis  77892.546010                  No\n",
       "6            9      Pancoran Mas  76823.684212                  No\n",
       "1           10            Cinere  76305.280868                  No\n",
       "0           11              Beji  59405.724276                  No"
      ]
     },
     "execution_count": 15,
     "metadata": {},
     "output_type": "execute_result"
    }
   ],
   "source": [
    "# Sort recommendation results from largest to smallest value\n",
    "df2.sort_values(by=['payload_MB'], inplace=True, ascending=False)\n",
    "df2.insert(loc=0,column='no_payload', value = range(1, 1 + len(df2)))\n",
    "df2"
   ]
  },
  {
   "cell_type": "code",
   "execution_count": 16,
   "id": "c42e7449",
   "metadata": {},
   "outputs": [
    {
     "data": {
      "text/html": [
       "<div>\n",
       "<style scoped>\n",
       "    .dataframe tbody tr th:only-of-type {\n",
       "        vertical-align: middle;\n",
       "    }\n",
       "\n",
       "    .dataframe tbody tr th {\n",
       "        vertical-align: top;\n",
       "    }\n",
       "\n",
       "    .dataframe thead th {\n",
       "        text-align: right;\n",
       "    }\n",
       "</style>\n",
       "<table border=\"1\" class=\"dataframe\">\n",
       "  <thead>\n",
       "    <tr style=\"text-align: right;\">\n",
       "      <th></th>\n",
       "      <th>no_payload</th>\n",
       "      <th>time</th>\n",
       "      <th>kecamatan_payload</th>\n",
       "      <th>payload_MB</th>\n",
       "      <th>recommended_payload</th>\n",
       "    </tr>\n",
       "  </thead>\n",
       "  <tbody>\n",
       "    <tr>\n",
       "      <th>3</th>\n",
       "      <td>1</td>\n",
       "      <td>202202</td>\n",
       "      <td>Sawangan</td>\n",
       "      <td>90387.271683</td>\n",
       "      <td>Yes</td>\n",
       "    </tr>\n",
       "    <tr>\n",
       "      <th>5</th>\n",
       "      <td>2</td>\n",
       "      <td>202202</td>\n",
       "      <td>Cilodong</td>\n",
       "      <td>89821.658662</td>\n",
       "      <td>Yes</td>\n",
       "    </tr>\n",
       "    <tr>\n",
       "      <th>8</th>\n",
       "      <td>3</td>\n",
       "      <td>202202</td>\n",
       "      <td>Limo</td>\n",
       "      <td>89036.582408</td>\n",
       "      <td>Yes</td>\n",
       "    </tr>\n",
       "    <tr>\n",
       "      <th>10</th>\n",
       "      <td>4</td>\n",
       "      <td>202202</td>\n",
       "      <td>Bojongsari</td>\n",
       "      <td>88976.169956</td>\n",
       "      <td>Yes</td>\n",
       "    </tr>\n",
       "    <tr>\n",
       "      <th>9</th>\n",
       "      <td>5</td>\n",
       "      <td>202202</td>\n",
       "      <td>Cipayung</td>\n",
       "      <td>87046.635907</td>\n",
       "      <td>Yes</td>\n",
       "    </tr>\n",
       "    <tr>\n",
       "      <th>7</th>\n",
       "      <td>6</td>\n",
       "      <td>202202</td>\n",
       "      <td>Tapos</td>\n",
       "      <td>86486.932359</td>\n",
       "      <td>Yes</td>\n",
       "    </tr>\n",
       "    <tr>\n",
       "      <th>4</th>\n",
       "      <td>7</td>\n",
       "      <td>202202</td>\n",
       "      <td>Sukma Jaya</td>\n",
       "      <td>80264.205356</td>\n",
       "      <td>Yes</td>\n",
       "    </tr>\n",
       "    <tr>\n",
       "      <th>2</th>\n",
       "      <td>8</td>\n",
       "      <td>202202</td>\n",
       "      <td>Cimanggis</td>\n",
       "      <td>77892.546010</td>\n",
       "      <td>No</td>\n",
       "    </tr>\n",
       "    <tr>\n",
       "      <th>6</th>\n",
       "      <td>9</td>\n",
       "      <td>202202</td>\n",
       "      <td>Pancoran Mas</td>\n",
       "      <td>76823.684212</td>\n",
       "      <td>No</td>\n",
       "    </tr>\n",
       "    <tr>\n",
       "      <th>1</th>\n",
       "      <td>10</td>\n",
       "      <td>202202</td>\n",
       "      <td>Cinere</td>\n",
       "      <td>76305.280868</td>\n",
       "      <td>No</td>\n",
       "    </tr>\n",
       "    <tr>\n",
       "      <th>0</th>\n",
       "      <td>11</td>\n",
       "      <td>202202</td>\n",
       "      <td>Beji</td>\n",
       "      <td>59405.724276</td>\n",
       "      <td>No</td>\n",
       "    </tr>\n",
       "  </tbody>\n",
       "</table>\n",
       "</div>"
      ],
      "text/plain": [
       "    no_payload    time kecamatan_payload    payload_MB recommended_payload\n",
       "3            1  202202          Sawangan  90387.271683                 Yes\n",
       "5            2  202202          Cilodong  89821.658662                 Yes\n",
       "8            3  202202              Limo  89036.582408                 Yes\n",
       "10           4  202202        Bojongsari  88976.169956                 Yes\n",
       "9            5  202202          Cipayung  87046.635907                 Yes\n",
       "7            6  202202             Tapos  86486.932359                 Yes\n",
       "4            7  202202        Sukma Jaya  80264.205356                 Yes\n",
       "2            8  202202         Cimanggis  77892.546010                  No\n",
       "6            9  202202      Pancoran Mas  76823.684212                  No\n",
       "1           10  202202            Cinere  76305.280868                  No\n",
       "0           11  202202              Beji  59405.724276                  No"
      ]
     },
     "execution_count": 16,
     "metadata": {},
     "output_type": "execute_result"
    }
   ],
   "source": [
    "# Added 'time'column\n",
    "time = str(df.iloc[0]['tanggal'])\n",
    "df2.insert(loc=1,column='time', value = time[0:6])\n",
    "df2"
   ]
  },
  {
   "cell_type": "code",
   "execution_count": 17,
   "id": "f7d86115",
   "metadata": {},
   "outputs": [],
   "source": [
    "# Saving recommendation results to CSV file\n",
    "df2.to_csv('summary_payload.csv', index=False)"
   ]
  },
  {
   "cell_type": "code",
   "execution_count": 18,
   "id": "8ed69724",
   "metadata": {},
   "outputs": [
    {
     "data": {
      "text/plain": [
       "79568.40188160495"
      ]
     },
     "execution_count": 18,
     "metadata": {},
     "output_type": "execute_result"
    }
   ],
   "source": [
    "# Threshold payload, save this value to the database\n",
    "payload_depok"
   ]
  }
 ],
 "metadata": {
  "kernelspec": {
   "display_name": "Python 3 (ipykernel)",
   "language": "python",
   "name": "python3"
  },
  "language_info": {
   "codemirror_mode": {
    "name": "ipython",
    "version": 3
   },
   "file_extension": ".py",
   "mimetype": "text/x-python",
   "name": "python",
   "nbconvert_exporter": "python",
   "pygments_lexer": "ipython3",
   "version": "3.9.7"
  }
 },
 "nbformat": 4,
 "nbformat_minor": 5
}
